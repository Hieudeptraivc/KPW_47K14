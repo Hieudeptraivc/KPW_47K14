{
 "cells": [
  {
   "cell_type": "code",
   "execution_count": 17,
   "metadata": {},
   "outputs": [],
   "source": [
    "import nltk\n",
    "import re\n",
    "import os\n",
    "import emoji\n",
    "from bs4 import BeautifulSoup\n",
    "from nltk.probability import FreqDist\n",
    "from nltk.corpus import stopwords\n",
    "tu_dien = {}\n",
    "file_path = 'D:/học/Khai pha web/BTCB/choa.txt' \n",
    "with open(file_path, 'r', encoding='utf-8') as file:\n",
    "    for line in file:\n",
    "        word, abbreviation = line.strip().split('\t')\n",
    "        tu_dien[word.strip()] = abbreviation.strip()\n",
    "f = open(\"D:/học/Khai pha web/BTCB/vietnamese-stopwords.txt\", \"r\", encoding=\"utf-8\")\n",
    "#Get Stop words Dictionaries\n",
    "List_StopWords=f.read().split(\"\\n\")\n",
    "src='D:/học/Khai pha web/Data1'\n",
    "path=os.listdir(src)\n",
    "for i in path:\n",
    "    label=i.split(\"'\")[0]\n",
    "    f=open('D:/học/Khai pha web/Data1/'+str(label), \"r\", encoding=\"utf-8\")\n",
    "    text=f.read()\n",
    "    mau_url = r'http[s]?://(?:[a-zA-Z]|[0-9]|[$-_@.&+]|[!*\\\\(\\\\),]|(?:%[0-9a-fA-F][0-9a-fA-F]))+'\n",
    "    # Thay thế tất cả các URL trong chuỗi bằng chuỗi rỗng\n",
    "    text_pre = re.sub(mau_url, '', text)\n",
    "    text_pre=emoji.demojize(text_pre)\n",
    "    text_pre=text_pre.lower() # Convert text to lowercase\n",
    "    text_pre=re.sub(r'[^\\w\\s]','',text_pre) # Remove punctuation\n",
    "    text_pre = re.sub(\"\\d+\", \" \", text_pre) # Remove number\n",
    "    text_pre=text_pre.replace(\"\\n\",\"\")  # Remove the newline command   \n",
    "    text_pre = \" \".join(text_pre for text_pre in text_pre.split() if text_pre not in List_StopWords)\n",
    "    text_pre = re.sub(r\"[!@#$[]()]'\", \"\", text_pre) # Remove character: !@#$[]()\n",
    "# Get Abbreviations Words\n",
    "    text_pree=\"\"\n",
    "    words = text_pre.split()\n",
    "    for word in words:\n",
    "        w=word\n",
    "        w = re.sub(r'[^\\w\\s]','',w) #Removing Punctuation\n",
    "        if w.lower() in tu_dien:\n",
    "            word=tu_dien[w]\n",
    "        text_pree=text_pree + \" \" + word \n",
    "    text_pree=nltk.word_tokenize(text_pree) # Tokenizing   \n",
    "    st=''\n",
    "    for i in text_pree:\n",
    "        st+=str(i)+'\\n'\n",
    "    filename=os.path.join(\"D:/học/Khai pha web/BTCB/Data_Preprocessing\", str(label))    \n",
    "    with open(filename, 'w+',encoding='utf-8') as f:\n",
    "        f.write(st)"
   ]
  }
 ],
 "metadata": {
  "kernelspec": {
   "display_name": "Python 3",
   "language": "python",
   "name": "python3"
  },
  "language_info": {
   "codemirror_mode": {
    "name": "ipython",
    "version": 3
   },
   "file_extension": ".py",
   "mimetype": "text/x-python",
   "name": "python",
   "nbconvert_exporter": "python",
   "pygments_lexer": "ipython3",
   "version": "3.11.6"
  }
 },
 "nbformat": 4,
 "nbformat_minor": 2
}

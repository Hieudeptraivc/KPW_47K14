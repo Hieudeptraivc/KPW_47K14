{
 "cells": [
  {
   "cell_type": "code",
   "execution_count": 2,
   "metadata": {},
   "outputs": [
    {
     "name": "stdout",
     "output_type": "stream",
     "text": [
      "Words in dictionary:  ['all', 'an', 'anger_symbol', 'anger_symboltóm_lại', 'anh', 'any', 'back', 'bao', 'bao_nhiêu', 'be', 'beaming_face_with_smiling_eyes', 'beaming_face_with_smiling_eyessparkles', 'ben', 'best', 'bi', 'bill', 'binh', 'biệt', 'bjo', 'bla', 'blend', 'bong_bóng', 'bu', 'buffet', 'bung', 'buoi', 'buồn', 'buồnvị', 'buổi_trưa', 'bà_con', 'bài_trí', 'bàn', 'bàn_cãi', 'bác_nào_đến_đây_ăn_thử_thì_tốt_nhất_là_tự_mang_giấy_ăn_đi', 'bánh', 'bánh_bao', 'bánh_bèo', 'bánh_canh', 'bánh_cuốn', 'bánh_mì', 'bánh_tráng', 'báo', 'bát', 'bây_giờ', 'bãi', 'bé', 'bé_tí', 'bé_tẹo', 'béo', 'bê', 'bên_cạnh', 'bên_nguyên', 'bì', 'bình', 'bình_dân', 'bình_quân', 'bình_thường', 'bí', 'bò', 'bòn_bon', 'bóng', 'bóng_dáng', 'bóng_ma', 'bù_đắp', 'bún', 'bún_chả', 'bă', 'bơ', 'bưng', 'bạn', 'bạn_bè', 'bảng', 'bảo', 'bảo_vệ', 'bận', 'bắp', 'bắt', 'bắt_mắt', 'bếp', 'bịch', 'bọn', 'bỏ_dở', 'bỏ_qua', 'bột', 'bột_nở', 'bở', 'bụng', 'bữa', 'bự', 'bực', 'ca', 'cam', 'can', 'candy', 'canh', 'cao_ngất', 'cao_điểm', 'cay', 'cay_cay', 'chago', 'chai', 'chatime', 'chay', 'cherry_blossomnhưng', 'chia', 'chip', 'chiê', 'chiên', 'chiều', 'cho_biết', 'cho_qua', 'cho_qua_chuyện', 'chua_chua', 'chua_ngọt', 'chung', 'chuyên_nghiệp', 'chuô', 'chuồn_chuồn', 'chán', 'cháo', 'chát', 'châm', 'chân', 'chã', 'chém', 'chén_đũa', 'chê', 'chì', 'chú_thích', 'chút', 'chăngr', 'chư', 'chạy', 'chạy_bàn', 'chả', 'chảnh', 'chảo', 'chảy', 'chấm', 'chấp_nhận', 'chất', 'chất_lượng', 'chậm', 'chậm_chạp', 'chậm_trễ', 'chập', 'chật_hẹp', 'chắc', 'chẳng', 'chặt_đẹp', 'chế', 'chế_biến', 'chị', 'chỗ', 'chờ', 'chời', 'chụp', 'chủ', 'co', 'coca', 'coffe', 'come', 'comment', 'con_gái', 'con_nhà', 'confirm', 'cu', 'cua', 'cua_đồng', 'cuối_cùng', 'càu_nhàu', 'cá', 'cá_trích', 'cây_cối', 'cãi', 'có_giá', 'có_vẻ', 'có_điều', 'công_nhận', 'cùng_với', 'căng', 'căng_thẳng', 'cũ', 'cũng', 'cơm', 'cơm_bụi', 'cười', 'cạch', 'cảm_giác', 'cảm_nhận', 'cảm_quan', 'cảm_thấy', 'cảm_tình', 'cảnh', 'cầu', 'cẩn_thận', 'cẩu_thả', 'cập', 'cố', 'cố_gắng', 'cố_đấm_ăn_xôi', 'cốc', 'cổ', 'cổng', 'cộng', 'cột', 'cụ_thể', 'cục', 'cứg', 'cứng', 'cực', 'da', 'dai', 'deadline', 'decor', 'di', 'dingtea', 'diễn', 'downcast_face_with_sweat', 'du', 'du_lịch', 'dài_dài', 'dám', 'dán', 'dâ', 'dân', 'dân_dã', 'dè', 'dép', 'dô', 'dĩa', 'dơ', 'dạ_dày', 'dạo', 'dầu', 'dầu_luyn', 'dầu_mỡ', 'dắt', 'dẹp', 'dẻ', 'dẻo', 'dịp', 'dịu', 'dọn', 'dồi', 'dở', 'dỡ', 'dụ', 'dứt', 'dừa', 'eat', 'em_trai', 'fa', 'face_blowing_a_kiss', 'face_with_rolling_eyes', 'face_with_rolling_eyesđầu_tiên', 'face_with_tears_of_joy', 'face_with_tears_of_joysau', 'fai', 'foody', 'free', 'fuck', 'ga', 'gan', 'ghé', 'ghẹ', 'ghế', 'gia', 'gia_vị', 'gia_đình', 'giao', 'gimbap', 'giup', 'già', 'giành_giật', 'giá', 'giá_cả', 'giò', 'giòn', 'giùm', 'giải_toả', 'giảm_giá', 'giấy', 'giết', 'giọt', 'giới_thiệu', 'go', 'grinning_face', 'gà', 'gâ', 'gân', 'gé', 'gì', 'gòn', 'góc', 'gư', 'gạo', 'gạt', 'gắp', 'gọi', 'gọi_là', 'gọn', 'gỏi', 'gốc', 'gối', 'gửi', 'ha', 'hai', 'haiz', 'ham_hố', 'hay_là', 'hay_sao', 'heo', 'hi', 'hiê', 'hotdeal', 'hoàn_hảo', 'hoàn_toàn', 'hoàng', 'hoạt_động', 'hum', 'huyet', 'huơ', 'huế', 'hài_lòng', 'hàng', 'hàngđể', 'hành', 'hã', 'hê', 'hên', 'hình', 'hình_mẫu', 'hình_như', 'hình_ảnh', 'hích', 'hô', 'hôi', 'hôm', 'hôm_nay', 'hôm_qua', 'hơ', 'hơi', 'hạn', 'hạn_dùng', 'hải', 'hải_sản', 'hấp', 'hầu_như', 'hẳn', 'hẹ', 'hẹn', 'hẻm', 'hết_nước', 'hết_sức', 'hết_thịt', 'học', 'hỏng', 'hồ', 'hồi', 'hộp', 'hột', 'hời_hợt', 'hợp', 'hợp_khẩu', 'hợp_lí', 'hủy', 'hứng', 'hứng_thú', 'ice', 'inox', 'k_phải_ngày_lễ_nhá_mọi_ng', 'k_ra', 'kdĩa', 'ke', 'kem', 'kha', 'khen', 'khen_ngợi', 'khoai', 'khoẻ', 'khu', 'khu_phố', 'khuya', 'khuyên', 'khuyến_cáo', 'khác_gì', 'khâu', 'khó_chịu', 'khô', 'khô_đét', 'không', 'không_bao_giờ', 'không_gian', 'không_nooooooooooo', 'khôra', 'khă', 'khọt', 'khởi_sắc', 'khụ', 'kia', 'kim', 'kim_mã', 'kinh_khủng', 'kissing_face_with_closed_eyes', 'kissing_face_with_closed_eyesquán', 'kiếm', 'kiểu', 'kiệu', 'kkg', 'klymặt_bằng', 'km', 'kngười', 'kphần', 'kèm', 'kém', 'kéo', 'kêu', 'kì', 'kí', 'kết', 'kết_quả', 'kệ', 'la', 'lag', 'lai', 'last', 'lau', 'list', 'liên', 'liên_tục', 'liếc', 'liền', 'lo', 'long_triềume', 'lun', 'lung_linh', 'luật', 'ly', 'làm_bằng', 'làm_sao', 'làn', 'làng', 'láo', 'lâ', 'lâu_lâu', 'lí_do', 'lò', 'lò_dò', 'lúc', 'lơn', 'lưỡi', 'lạ', 'lạ_miệng', 'lại_nữa', 'lạnh', 'lạnh_lùng', 'lạt', 'lạt_lẽo', 'lả_tả', 'lấn_cấn', 'lầm', 'lầu', 'lẩu', 'lẫn', 'lắc', 'lắm', 'lết', 'lề_đường', 'lịch_sự', 'lọc', 'lồn', 'lỗi', 'lộn', 'lớp', 'lợi', 'lợn', 'lụa', 'lừa', 'lựa', 'ma', 'macha', 'mai', 'matcha', 'mau', 'me', 'menu', 'mi', 'minh', 'miê', 'miếg', 'miếng', 'miển', 'miễn', 'mong', 'mua', 'muoi', 'muối', 'mà_còn', 'mà_lại', 'màh', 'màu', 'má', 'mát', 'mát_mẻ', 'máy_lạnh', 'mâ', 'méo_mặt', 'mê', 'mênh_mông', 'mì', 'mì_chính', 'mó', 'món', 'môi_trường', 'mùa', 'mùi', 'mùi_vị', 'mùng', 'múc', 'măm', 'mũ_ni', 'mưa', 'mươi', 'mướn', 'mất_công', 'mấy', 'mắc', 'mắm_tôm', 'mắn', 'mặc', 'mặncơm_chiên', 'mặt', 'mặt_đường', 'mềm', 'mệt', 'mọi', 'mỏng', 'một_chút', 'mời_chào', 'mỡ', 'mủ', 'mỳ', 'na', 'nam', 'nam_vô', 'nay', 'nc', 'nchung', 'nem_lụi', 'never', 'ngang', 'nghiện', 'nghĩa', 'nghẹ', 'nghỉ', 'ngon', 'ngon_miệng', 'ngonkhông_gian', 'ngoài_ra', 'ngoại', 'nguyên', 'nguyên_liệu', 'nguyễn_tri_phương', 'nguyễn_đình_chiểu', 'nguội_tanh', 'nguỵ_biện', 'ngàn', 'ngày_sau', 'ngày_trước', 'ngày_xưa', 'ngán', 'ngâm', 'ngõ', 'người', 'ngượng', 'ngậy', 'ngắm', 'ngắn', 'ngọc', 'ngồi_chưa_nóng_đít', 'nh', 'nha', 'nhanh_chóng', 'nhi', 'nhieu', 'nhiệt_tình', 'nhung', 'nhà_hàng', 'nhá', 'nhách', 'nhâ', 'nhân', 'nhân_viên', 'nhìn_chung', 'nhìu', 'nhúng', 'như', 'như_thế', 'như_thế_nào', 'như_vậy', 'nhưng', 'nhưng_mà', 'nhược_điểm', 'nhạt', 'nhạt_nhẽo', 'nhầm', 'nhắc', 'nhắm_mắt', 'nhẹ_nhàng', 'nhịn', 'nhỏ_xíu', 'nhức', 'những', 'nick', 'ninấu_ăn', 'no', 'no_nê', 'no_tròn', 'noi', 'non', 'nui_xào_bò', 'nun', 'nuốt', 'nv', 'nào', 'nàogỏi', 'nàythức_ăn', 'nátđĩa', 'nãy', 'nê', 'nêm', 'nói_chung', 'nói_chuyện', 'nóng', 'nóng_nực', 'nô', 'năm_mươi', 'năng_suất', 'nươ', 'nước_chấm', 'nước_cốt', 'nước_dùng', 'nước_lã', 'nước_lèo', 'nướng', 'nấu', 'nắng', 'nằm', 'nếm', 'nếu_không', 'nốt', 'nồi', 'nổi', 'nổi_tiếng', 'nở', 'nữ', 'nữa_là', 'ok', 'ok_handbánh', 'ok_handnói_chung', 'order', 'pate', 'person_blond_hair', 'pha', 'phi', 'phiếu', 'phodibo', 'phomai', 'phong', 'phu', 'phuc', 'phàn_nàn', 'phát_hiện', 'phí', 'phô_mai', 'phút', 'phải', 'phải_chăng', 'phấn_khích', 'phần_bò', 'phố', 'phồng', 'phớ', 'phở', 'phụ', 'phục_vụ', 'plan', 'pm', 'qtqd', 'qtqđ', 'quan', 'quay', 'quen', 'quyết_định', 'quá', 'quá_ư', 'quán', 'quán_ăn', 'quát', 'quê', 'quên', 'quăng', 'quản_lí', 'quản_lý', 'quảng_cáo', 'quần', 'quẹt', 'ra_mặt', 'ra_đi', 'ramen', 'rang', 'rau', 'review', 'revolving_hearts', 'rhu', 'riêu', 'rui', 'ràng', 'rác', 'ráng', 'râ', 'ròn', 'rút', 'rơi', 'rẻ', 'rẽ', 'rồi', 'rộng', 'rớt', 'rụm', 'rụng', 'rữa', 'sai', 'san', 'san_sát', 'seller', 'ship', 'sinh', 'siu', 'siêu', 'siêu_thị', 'sleepy_face', 'sleepy_facebánh', 'sleepy_facecó_thể', 'sleepy_facemấy', 'smiling_face_with_halo', 'socola', 'sparkles', 'suất', 'sv', 'sài', 'sáu', 'sò_huyết', 'sườn', 'sường', 'sạch', 'sạch_sẽ', 'sản_phẩm', 'sẵn', 'sọc', 'số_dách', 'số_lượng', 'sốt', 'sợ', 'sụp_đổ', 'sử_dụng', 'sửa', 'sữa', 't_chưa', 'ta', 'tan', 'tay_phải', 'tekk', 'test', 'thach', 'than', 'than_ôi', 'thanh_toán', 'the', 'them', 'theo_dõi', 'theroyalpavilion', 'thetimesquarehotel', 'thi', 'thic', 'thiết_kế', 'thiệt', 'thiệt_hại', 'thoa', 'thoải_mái', 'thuc', 'thui', 'thumbs_up', 'thumbs_upkhông_gian', 'thuongkêu', 'thành', 'thác', 'thái_độ', 'thâ', 'thân_thiện', 'thât', 'thèm', 'thêmtóm_lại', 'thì_có', 'thì_là', 'thì_phải', 'thì_thôi', 'thôi_thì', 'thôibia', 'thông_báo', 'thơm', 'thư', 'thương', 'thường', 'thưởng_thức', 'thạch', 'thảo', 'thất', 'thất_vọng', 'thấy_bà', 'thập', 'thập_cẩm', 'thật_sự', 'thắc_mắc', 'thế', 'thế_là', 'thế_mà', 'thịt', 'thời_gian', 'thứ_hai', 'thức', 'thức_ăn', 'thử', 'thực', 'thực_khách', 'thực_đơn', 'ti', 'tim', 'tiếc', 'tiếng', 'tiếp', 'tiềm', 'tiền', 'tiện', 'tmi', 'to', 'toan', 'today', 'toi', 'tok', 'toping', 'tot', 'toàn', 'trang', 'trang_trí', 'treo_đầu_dê_bán_thịt_chó', 'tri', 'truyền_thống', 'trà', 'trág', 'trái', 'trái_cây', 'tráng', 'trân', 'trân_châu', 'trâu', 'trông', 'trơ', 'trưa', 'trước', 'trước_đây', 'trường_học', 'trẻ_em', 'trống', 'trộn', 'trời', 'trời_ơi', 'trở_lên', 'trở_lại', 'trứng', 'trứng_lộn', 'trừ', 'tui', 'tuy_nhiên', 'tuyê', 'tuyệt', 'tuần', 'tuột_dốc', 'tàu', 'tâm_lý', 'tân', 'té_ra', 'tê', 'tình', 'tình_cờ', 'tình_trạng', 'tình_yêu', 'tí', 'tích', 'tín_đồ', 'tính_từ', 'tóm_lại', 'tô', 'tôm', 'tôm_càng', 'tôm_sú', 'túi_tiền', 'tý', 'tư', 'tưngf', 'tươi', 'tương', 'tương_xứng', 'tường', 'tưởng', 'tại_sao', 'tạm', 'tạt', 'tất_cả', 'tầm', 'tầng', 'tắm', 'tặng', 'tết', 'tệ', 'tỏ', 'tỏi', 'tối', 'tốn', 'tốn_phí', 'tổng', 'tờ', 'tụi', 'tứ', 'tức', 'từ_từ', 'unamused_face', 'unamused_facecòn', 'up', 'uy_tín', 'uống', 'va', 'vang', 'vani', 'vi', 'viên', 'việck', 'việt', 'vkhông', 'voucher', 'vu', 'vui', 'vui_lòng', 'vui_vẻ', 'vuocher', 'vvề', 'và', 'vão', 'vé', 'vê', 'vì_vậy', 'ví', 'ví_như', 'vòng', 'vô', 'vô_cùng', 'vô_lí', 'vô_tình', 'văn', 'văng', 'vơ', 'vấn_đề', 'vậy', 'vậy_mà', 'vậy_thì', 'vắng', 'vặt', 'về', 'vỉa_hè', 'vị', 'vị_trí', 'vịt', 'vọng', 'vỏ', 'vỡ_mộng', 'vừa_phải', 'vực', 'weary_face', 'what', 'xay', 'xe', 'xeđc', 'xin_lỗi', 'xinh', 'xong', 'xuyên', 'xuyến', 'xuất', 'xà_lách', 'xào', 'xá_xíu', 'xíu', 'xót', 'xô', 'xô_bồ', 'xôi', 'xúc', 'xúc_xích', 'xưa', 'xảy_ra', 'you', 'yummy', 'yên_tĩnh', 'yêu', 'áo', 'át', 'ép', 'ôi_thôi', 'ôm', 'ăn_cướp', 'ăn_gỏi', 'ăn_ở', 'đa', 'đa_dạng', 'đa_số', 'đam', 'đanh', 'đau', 'đem', 'đen', 'đg', 'đi', 'đi_nữa', 'điện', 'điện_thoại', 'đo', 'đá', 'đám', 'đã_vậy', 'đê', 'đòi', 'đô', 'đôi', 'đông', 'đông_đúc', 'đĩa', 'đũa', 'đường', 'được', 'được_cái', 'đất_đỏ', 'đấy', 'đầm', 'đầu', 'đầu_tiên', 'đầu_vào', 'đầy_đặn', 'đậm', 'đậm_đà', 'đập', 'đậu', 'đậu_hũ', 'đậu_phụ', 'đắt', 'đặc_biệt', 'đặc_sắc', 'đặc_trưng', 'đẹp', 'địa_điểm', 'định', 'đọc', 'đối_diện', 'đối_với', 'đồ', 'đồ_ăn', 'đồng', 'đổi', 'độc', 'độn', 'đỡ', 'đợi', 'đứa', 'đừng', 'ưu_điểm', 'ướt', 'ướt_sũng', 'ảnh', 'ấn_tượng', 'ốc', 'ốm', 'ốp', 'ồm', 'ổn', 'ớt', 'ức']\n",
      "Vector Bag-of-Word: \n",
      " [[0 0 0 ... 0 0 0]\n",
      " [0 0 0 ... 0 0 0]\n",
      " [0 0 0 ... 0 0 0]\n",
      " ...\n",
      " [0 0 0 ... 0 0 0]\n",
      " [0 0 0 ... 0 0 0]\n",
      " [0 0 0 ... 0 0 0]]\n"
     ]
    }
   ],
   "source": [
    "import nltk\n",
    "import re\n",
    "import os\n",
    "import emoji\n",
    "from bs4 import BeautifulSoup\n",
    "from nltk.probability import FreqDist\n",
    "from nltk.corpus import stopwords\n",
    "tu_dien = {}\n",
    "file_path = 'D:/học/Khai pha web/BTCB/choa.txt' \n",
    "with open(file_path, 'r', encoding='utf-8') as file:\n",
    "    for line in file:\n",
    "        word, abbreviation = line.strip().split('\t')\n",
    "        tu_dien[word.strip()] = abbreviation.strip()\n",
    "f = open(\"D:/học/Khai pha web/BTCB/vietnamese-stopwords.txt\", \"r\", encoding=\"utf-8\")\n",
    "#Get Stop words Dictionaries\n",
    "List_StopWords=f.read().split(\"\\n\")\n",
    "src='D:/học/Khai pha web/Data1'\n",
    "path=os.listdir(src)\n",
    "line=\"\"\n",
    "for i in path:\n",
    "    label=i.split(\"'\")[0]\n",
    "    f=open('D:/học/Khai pha web/Data1/'+str(label), \"r\", encoding=\"utf-8\")\n",
    "    text=f.read()\n",
    "    # Loại bỏ thẻ HTML\n",
    "    mau_url = r'http[s]?://(?:[a-zA-Z]|[0-9]|[$-_@.&+]|[!*\\\\(\\\\),]|(?:%[0-9a-fA-F][0-9a-fA-F]))+'\n",
    "    # Thay thế tất cả các URL trong chuỗi bằng chuỗi rỗng\n",
    "    text_pre = re.sub(mau_url, '', text)\n",
    "    text_pre=emoji.demojize(text_pre)\n",
    "    text_pre=text_pre.lower() # Convert text to lowercase\n",
    "    text_pre=re.sub(r'[^\\w\\s.]','',text_pre) # Remove punctuation\n",
    "    text_pre = re.sub(\"\\d+\", \" \", text_pre) # Remove number\n",
    "    text_pre=text_pre.replace(\"\\n\",\"\")  # Remove the newline command\n",
    "    text_pre = \" \".join(text_pre for text_pre in text_pre.split() if text_pre not in List_StopWords)\n",
    "    text_pre = re.sub(r\"[!@#$[]()]'\", \"\", text_pre) # Remove character: !@#$[]()\n",
    "# Get Abbreviations Words\n",
    "    text_pree=\"\"\n",
    "    words = text_pre.split()\n",
    "    for word in words:\n",
    "        w=word\n",
    "        w = re.sub(r'[^\\w\\s]','',w) #Removing Punctuation\n",
    "        if w.lower() in tu_dien:\n",
    "            word=tu_dien[w]\n",
    "        text_pree=text_pree + \" \" + word \n",
    "    line+=text_pree\n",
    "Dataa=line.split('.')\n",
    "Data=[]\n",
    "for x in Dataa:\n",
    "    if x.strip() != '':\n",
    "        Data.append(x)\n",
    "################\n",
    "from sklearn.feature_extraction.text import CountVectorizer\n",
    "# Xay dung vector BOW\n",
    "vect = CountVectorizer()\n",
    "X = vect.fit_transform(Data)\n",
    "# Xay dung tu dien\n",
    "dictionary=list(vect.get_feature_names_out())\n",
    "print(\"Words in dictionary: \", dictionary)\n",
    "print(\"Vector Bag-of-Word: \\n\", X.toarray())"
   ]
  }
 ],
 "metadata": {
  "kernelspec": {
   "display_name": "Python 3",
   "language": "python",
   "name": "python3"
  },
  "language_info": {
   "codemirror_mode": {
    "name": "ipython",
    "version": 3
   },
   "file_extension": ".py",
   "mimetype": "text/x-python",
   "name": "python",
   "nbconvert_exporter": "python",
   "pygments_lexer": "ipython3",
   "version": "3.11.6"
  }
 },
 "nbformat": 4,
 "nbformat_minor": 2
}
